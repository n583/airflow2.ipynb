{
 "cells": [
  {
   "cell_type": "code",
   "execution_count": 1,
   "id": "a1b85423-6f22-4501-808c-8a4f23e99ff2",
   "metadata": {},
   "outputs": [],
   "source": [
    "import datetime"
   ]
  },
  {
   "cell_type": "code",
   "execution_count": 2,
   "id": "9b76c923-de97-4ad6-9425-a80797baf745",
   "metadata": {},
   "outputs": [],
   "source": [
    "from datetime import timedelta"
   ]
  },
  {
   "cell_type": "code",
   "execution_count": 18,
   "id": "6289cb04-f830-40e0-b209-c15d0baba5ff",
   "metadata": {},
   "outputs": [],
   "source": [
    "import airflow\n",
    "from airflow import DAG\n",
    "from airflow.operators.bash import BashOperator"
   ]
  },
  {
   "cell_type": "code",
   "execution_count": 19,
   "id": "40589b47-bccd-4aa4-b4aa-c7a3fe9f9c82",
   "metadata": {},
   "outputs": [
    {
     "data": {
      "text/plain": [
       "['Callable',\n",
       " 'Optional',\n",
       " 'PY310',\n",
       " 'PY36',\n",
       " 'PY37',\n",
       " 'PY38',\n",
       " 'PY39',\n",
       " 'STATICA_HACK',\n",
       " '__all__',\n",
       " '__annotations__',\n",
       " '__builtins__',\n",
       " '__cached__',\n",
       " '__doc__',\n",
       " '__file__',\n",
       " '__getattr__',\n",
       " '__loader__',\n",
       " '__name__',\n",
       " '__package__',\n",
       " '__path__',\n",
       " '__spec__',\n",
       " '__version__',\n",
       " '_vendor',\n",
       " 'api_connexion',\n",
       " 'compat',\n",
       " 'config_templates',\n",
       " 'configuration',\n",
       " 'exceptions',\n",
       " 'executors',\n",
       " 'hooks',\n",
       " 'lineage',\n",
       " 'logging_config',\n",
       " 'login',\n",
       " 'models',\n",
       " 'operators',\n",
       " 'plugins_manager',\n",
       " 'providers_manager',\n",
       " 'secrets',\n",
       " 'security',\n",
       " 'sentry',\n",
       " 'serialization',\n",
       " 'settings',\n",
       " 'stats',\n",
       " 'sys',\n",
       " 'templates',\n",
       " 'ti_deps',\n",
       " 'timetables',\n",
       " 'triggers',\n",
       " 'typing_compat',\n",
       " 'utils',\n",
       " 'version']"
      ]
     },
     "execution_count": 19,
     "metadata": {},
     "output_type": "execute_result"
    }
   ],
   "source": [
    "#define Arguments\n",
    "dir(airflow)"
   ]
  },
  {
   "cell_type": "code",
   "execution_count": 22,
   "id": "b6134585-4f3d-40c0-9258-04ab02226cec",
   "metadata": {},
   "outputs": [],
   "source": [
    "import datetime as dt\n",
    "\n",
    "default_args = {\n",
    "    'owner': 'me',\n",
    "    'start_date': dt.datetime(2021, 1, 29),\n",
    "    'retries': 1,\n",
    "    'retry_delay': dt.timedelta(minutes=5)}"
   ]
  },
  {
   "cell_type": "code",
   "execution_count": 44,
   "id": "d03c04a8-cee0-4572-b55c-2a86b6fdecb1",
   "metadata": {},
   "outputs": [],
   "source": [
    "#instantiate  a dag\n",
    "dag = DAG(\n",
    "    'tutorial',\n",
    "    default_args=default_args,\n",
    "    schedule_interval = '0 0 * * *',\n",
    ") \n",
    "    \n",
    "    "
   ]
  },
  {
   "cell_type": "code",
   "execution_count": 45,
   "id": "6b5fe3e3-7162-4b01-ab89-ec34edc6697e",
   "metadata": {},
   "outputs": [],
   "source": [
    "t1 = BashOperator(\n",
    "    task_id = \"print_date\",\n",
    "    bash_command= \"date\",\n",
    "    dag=dag,\n",
    ")"
   ]
  },
  {
   "cell_type": "code",
   "execution_count": 47,
   "id": "9c9b2b6d-24da-426c-a359-9cc38d05ef75",
   "metadata": {},
   "outputs": [],
   "source": [
    "t2 = BashOperator(\n",
    "    task_id= \"sleep\",\n",
    "    depends_on_past = False,\n",
    "    bash_command= \"sleep 5\",\n",
    "    dag=dag,\n",
    "    \n",
    ")\n",
    "    \n",
    "    "
   ]
  },
  {
   "cell_type": "code",
   "execution_count": 48,
   "id": "697ab1c5-b01b-4024-a76c-ef9a9188b2f0",
   "metadata": {},
   "outputs": [],
   "source": [
    "template_command = \"\"\"\n",
    "{% for i in range(5) %}\n",
    "    echo \"{{ds}}\"\n",
    "    echo\"{{ macros.ds_add(ds, 7)}}\"\n",
    "    echo\"{{ params.my_param}}\"\n",
    "{% endfor %}\n",
    "\"\"\"\n"
   ]
  },
  {
   "cell_type": "code",
   "execution_count": 51,
   "id": "7c4015c5-c35a-4133-a86b-189cf109e312",
   "metadata": {},
   "outputs": [],
   "source": [
    "t3 = BashOperator(\n",
    "    task_id= \"templated\",\n",
    "    bash_command= template_command,\n",
    "    params= {\"my_param\": 'paramtere I passed in'},\n",
    "    dag=dag\n",
    ")"
   ]
  },
  {
   "cell_type": "code",
   "execution_count": 52,
   "id": "2611cdb1-8d65-4fbb-9be2-ba2ec98d1143",
   "metadata": {},
   "outputs": [
    {
     "data": {
      "text/plain": [
       "[<Task(BashOperator): sleep>, <Task(BashOperator): templated>]"
      ]
     },
     "execution_count": 52,
     "metadata": {},
     "output_type": "execute_result"
    }
   ],
   "source": [
    "t1 >> [t2,t3]"
   ]
  },
  {
   "cell_type": "code",
   "execution_count": null,
   "id": "e80385f3-0772-4a26-b8de-e83f47ab1ecb",
   "metadata": {},
   "outputs": [],
   "source": []
  }
 ],
 "metadata": {
  "kernelspec": {
   "display_name": "Python 3 (ipykernel)",
   "language": "python",
   "name": "python3"
  },
  "language_info": {
   "codemirror_mode": {
    "name": "ipython",
    "version": 3
   },
   "file_extension": ".py",
   "mimetype": "text/x-python",
   "name": "python",
   "nbconvert_exporter": "python",
   "pygments_lexer": "ipython3",
   "version": "3.8.10"
  }
 },
 "nbformat": 4,
 "nbformat_minor": 5
}
